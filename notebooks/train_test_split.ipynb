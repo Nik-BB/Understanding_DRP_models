{
 "cells": [
  {
   "cell_type": "code",
   "execution_count": 1,
   "metadata": {},
   "outputs": [],
   "source": [
    "import os \n",
    "os.chdir('..')"
   ]
  },
  {
   "cell_type": "code",
   "execution_count": 2,
   "metadata": {},
   "outputs": [],
   "source": [
    "import sys\n",
    "import numpy as np \n",
    "import pandas as pd\n",
    "sys.path.insert(0, '../') \n",
    "from source_code import data_loading \n",
    "from source_code import data_processing\n",
    "from sklearn.model_selection import train_test_split"
   ]
  },
  {
   "cell_type": "code",
   "execution_count": 3,
   "metadata": {},
   "outputs": [
    {
     "name": "stderr",
     "output_type": "stream",
     "text": [
      "c:\\Users\\Nik\\Documents\\PhD_code\\year2_code\\DRP-aberrations-and-comparisons\\source_code\\data_loading.py:133: ParserWarning: Falling back to the 'python' engine because the 'c' engine does not support skipfooter; you can avoid this warning by specifying engine='python'.\n",
      "  cell_names_raw = pd.read_csv(f'{gdsc_dir_path}/gdsc_cell_names.csv', skiprows=1, skipfooter=1)\n"
     ]
    }
   ],
   "source": [
    "#load data for splitting\n",
    "omic_dir_path = '../Downloaded_data'\n",
    "gdsc2_target_path = 'data/GDSC2_Wed Aug GDSC2_30_15_49_31_2023.csv'\n",
    "pubchem_ids_path = 'data/drugs_gdsc_to_pubID.csv'\n",
    "rna, ic50, drugs_to_smiles = data_loading.load_omics_drugs_target(\n",
    "    omic_dir_path, gdsc2_target_path, pubchem_ids_path)\n",
    "\n",
    "drugs_with_smiles = drugs_to_smiles.index\n",
    "rna.shape, ic50.shape, len(drugs_to_smiles)\n",
    "\n",
    "drugs = np.zeros((len(drugs_with_smiles), len(drugs_with_smiles)))\n",
    "#np.fill_diagonal(one_hot_drugs, 1)\n",
    "drugs = pd.DataFrame(\n",
    "    drugs, index=drugs_with_smiles, columns=drugs_with_smiles)\n",
    "\n",
    "#creates df for each drug cl pair only for test train val split \n",
    "_, _, y = data_processing.create_all_drugs(rna, drugs, ic50)"
   ]
  },
  {
   "cell_type": "code",
   "execution_count": 7,
   "metadata": {},
   "outputs": [
    {
     "name": "stdout",
     "output_type": "stream",
     "text": [
      "Fraction of cls in sets, relative to all cls before mising values are removed\n",
      "train fraction 0.7997787610619469, test fraction 0.2002212389380531\n",
      "------\n",
      "Fraction of cls in sets, relative to all cl drug pairs, after mising values are removed\n",
      "train fraction 0.7216911944458025, test fraction 0.1810675695496993\n",
      " \n",
      "starting val split\n",
      " \n",
      "Fraction of cls in sets, relative to all cls before mising values are removed\n",
      "train fraction 0.4972375690607735, test fraction 0.5027624309392266\n",
      "------\n",
      "Fraction of cls in sets, relative to all cl drug pairs, after mising values are removed\n",
      "train fraction 0.45142089679802205, test fraction 0.4529165776380452\n",
      "Fraction of cls in sets, relative to all cls before mising values are removed\n",
      "train fraction 0.7997787610619469, test fraction 0.2002212389380531\n",
      "------\n",
      "Fraction of cls in sets, relative to all cl drug pairs, after mising values are removed\n",
      "train fraction 0.7213183885004645, test fraction 0.18144037549503741\n",
      " \n",
      "starting val split\n",
      " \n",
      "Fraction of cls in sets, relative to all cls before mising values are removed\n",
      "train fraction 0.4972375690607735, test fraction 0.5027624309392266\n",
      "------\n",
      "Fraction of cls in sets, relative to all cl drug pairs, after mising values are removed\n",
      "train fraction 0.4498946918592229, test fraction 0.4563047526021794\n",
      "Fraction of cls in sets, relative to all cls before mising values are removed\n",
      "train fraction 0.7997787610619469, test fraction 0.2002212389380531\n",
      "------\n",
      "Fraction of cls in sets, relative to all cl drug pairs, after mising values are removed\n",
      "train fraction 0.7219478805065271, test fraction 0.18081088348897473\n",
      " \n",
      "starting val split\n",
      " \n",
      "Fraction of cls in sets, relative to all cls before mising values are removed\n",
      "train fraction 0.4972375690607735, test fraction 0.5027624309392266\n",
      "------\n",
      "Fraction of cls in sets, relative to all cl drug pairs, after mising values are removed\n",
      "train fraction 0.4449192637587375, test fraction 0.45813619852873844\n"
     ]
    }
   ],
   "source": [
    "#cblind splits\n",
    "num_pairs = {'train': [], 'val': [], 'test': []}\n",
    "for seed in range(1, 4):\n",
    "    split_type = 'c_blind'\n",
    "    train_pairs, test_pairs, train_cls, test_cls = data_processing.cblind_split(\n",
    "        seed, rna.index, drugs_with_smiles, y, train_size=0.8)\n",
    "    print(' ')\n",
    "    print('starting val split')\n",
    "    print(' ')\n",
    "    val_pairs, test_pairs, val_cls, test_cls = data_processing.cblind_split(\n",
    "        seed, test_cls, drugs_with_smiles, test_pairs, train_size=0.5)\n",
    "\n",
    "    save_path = f'data/train_test_pairs/{split_type}/'\n",
    "    np.savetxt(f'{save_path}seed_{seed}_train', train_pairs, fmt='%s')\n",
    "    np.savetxt(f'{save_path}seed_{seed}_val', val_pairs, fmt='%s')\n",
    "    np.savetxt(f'{save_path}seed_{seed}_test', test_pairs, fmt='%s')\n",
    "\n",
    "    num_pairs['train'].append(len(train_pairs))\n",
    "    num_pairs['val'].append(len(val_pairs))\n",
    "    num_pairs['test'].append(len(test_pairs))\n",
    "    \n",
    "num_pairs = pd.DataFrame(num_pairs)"
   ]
  },
  {
   "cell_type": "code",
   "execution_count": 9,
   "metadata": {},
   "outputs": [
    {
     "data": {
      "text/html": [
       "<div>\n",
       "<style scoped>\n",
       "    .dataframe tbody tr th:only-of-type {\n",
       "        vertical-align: middle;\n",
       "    }\n",
       "\n",
       "    .dataframe tbody tr th {\n",
       "        vertical-align: top;\n",
       "    }\n",
       "\n",
       "    .dataframe thead th {\n",
       "        text-align: right;\n",
       "    }\n",
       "</style>\n",
       "<table border=\"1\" class=\"dataframe\">\n",
       "  <thead>\n",
       "    <tr style=\"text-align: right;\">\n",
       "      <th></th>\n",
       "      <th>train</th>\n",
       "      <th>val</th>\n",
       "      <th>test</th>\n",
       "    </tr>\n",
       "  </thead>\n",
       "  <tbody>\n",
       "    <tr>\n",
       "      <th>0</th>\n",
       "      <td>118086</td>\n",
       "      <td>14789</td>\n",
       "      <td>14838</td>\n",
       "    </tr>\n",
       "    <tr>\n",
       "      <th>1</th>\n",
       "      <td>118025</td>\n",
       "      <td>14739</td>\n",
       "      <td>14949</td>\n",
       "    </tr>\n",
       "    <tr>\n",
       "      <th>2</th>\n",
       "      <td>118128</td>\n",
       "      <td>14576</td>\n",
       "      <td>15009</td>\n",
       "    </tr>\n",
       "  </tbody>\n",
       "</table>\n",
       "</div>"
      ],
      "text/plain": [
       "    train    val   test\n",
       "0  118086  14789  14838\n",
       "1  118025  14739  14949\n",
       "2  118128  14576  15009"
      ]
     },
     "execution_count": 9,
     "metadata": {},
     "output_type": "execute_result"
    }
   ],
   "source": [
    "num_pairs"
   ]
  },
  {
   "cell_type": "code",
   "execution_count": 26,
   "metadata": {},
   "outputs": [
    {
     "name": "stdout",
     "output_type": "stream",
     "text": [
      " \n",
      "starting val split\n",
      " \n",
      " \n",
      "starting val split\n",
      " \n",
      " \n",
      "starting val split\n",
      " \n"
     ]
    }
   ],
   "source": [
    "#mixed set splits\n",
    "num_pairs = {'train': [], 'val': [], 'test': []}\n",
    "for seed in range(1, 4):\n",
    "    split_type = 'mixed'\n",
    "    train_pairs, test_pairs, = train_test_split(\n",
    "        y.index, random_state=seed, train_size=0.8)\n",
    "    print(' ')\n",
    "    print('starting val split')\n",
    "    print(' ')\n",
    "    val_pairs, test_pairs = data_processing.train_test_split(\n",
    "        test_pairs, random_state=seed, test_size=0.5)\n",
    "    \n",
    "    assert set(train_pairs).intersection(val_pairs) == set()\n",
    "    assert set(train_pairs).intersection(test_pairs) == set()\n",
    "    assert set(test_pairs).intersection(val_pairs) == set()\n",
    "\n",
    "    save_path = f'data/train_test_pairs/{split_type}/'\n",
    "    np.savetxt(f'{save_path}seed_{seed}_train', train_pairs, fmt='%s')\n",
    "    np.savetxt(f'{save_path}seed_{seed}_val', val_pairs, fmt='%s')\n",
    "    np.savetxt(f'{save_path}seed_{seed}_test', test_pairs, fmt='%s')\n",
    "\n",
    "    num_pairs['train'].append(len(train_pairs))\n",
    "    num_pairs['val'].append(len(val_pairs))\n",
    "    num_pairs['test'].append(len(test_pairs))\n",
    "    \n",
    "num_pairs = pd.DataFrame(num_pairs)"
   ]
  },
  {
   "cell_type": "code",
   "execution_count": 11,
   "metadata": {},
   "outputs": [
    {
     "data": {
      "text/html": [
       "<div>\n",
       "<style scoped>\n",
       "    .dataframe tbody tr th:only-of-type {\n",
       "        vertical-align: middle;\n",
       "    }\n",
       "\n",
       "    .dataframe tbody tr th {\n",
       "        vertical-align: top;\n",
       "    }\n",
       "\n",
       "    .dataframe thead th {\n",
       "        text-align: right;\n",
       "    }\n",
       "</style>\n",
       "<table border=\"1\" class=\"dataframe\">\n",
       "  <thead>\n",
       "    <tr style=\"text-align: right;\">\n",
       "      <th></th>\n",
       "      <th>train</th>\n",
       "      <th>val</th>\n",
       "      <th>test</th>\n",
       "    </tr>\n",
       "  </thead>\n",
       "  <tbody>\n",
       "    <tr>\n",
       "      <th>0</th>\n",
       "      <td>118170</td>\n",
       "      <td>14771</td>\n",
       "      <td>14772</td>\n",
       "    </tr>\n",
       "    <tr>\n",
       "      <th>1</th>\n",
       "      <td>118170</td>\n",
       "      <td>14771</td>\n",
       "      <td>14772</td>\n",
       "    </tr>\n",
       "    <tr>\n",
       "      <th>2</th>\n",
       "      <td>118170</td>\n",
       "      <td>14771</td>\n",
       "      <td>14772</td>\n",
       "    </tr>\n",
       "  </tbody>\n",
       "</table>\n",
       "</div>"
      ],
      "text/plain": [
       "    train    val   test\n",
       "0  118170  14771  14772\n",
       "1  118170  14771  14772\n",
       "2  118170  14771  14772"
      ]
     },
     "execution_count": 11,
     "metadata": {},
     "output_type": "execute_result"
    }
   ],
   "source": [
    "num_pairs"
   ]
  },
  {
   "cell_type": "code",
   "execution_count": 12,
   "metadata": {},
   "outputs": [
    {
     "name": "stdout",
     "output_type": "stream",
     "text": [
      "Fraction of cls in sets, relative to all cls before mising values are removed\n",
      "train fraction 0.7955801104972375, test fraction 0.20441988950276244\n",
      "------\n",
      "Fraction of cls in sets, relative to all cl drug pairs, after mising values are removed\n",
      "train fraction 0.7200532929154647, test fraction 0.18270547108003715\n",
      " \n",
      "starting val split\n",
      " \n",
      "Fraction of cls in sets, relative to all cls before mising values are removed\n",
      "train fraction 0.4864864864864865, test fraction 0.5135135135135135\n",
      "------\n",
      "Fraction of cls in sets, relative to all cl drug pairs, after mising values are removed\n",
      "train fraction 0.411534321932552, test fraction 0.4822410906481703\n",
      "Fraction of cls in sets, relative to all cls before mising values are removed\n",
      "train fraction 0.7955801104972375, test fraction 0.20441988950276244\n",
      "------\n",
      "Fraction of cls in sets, relative to all cl drug pairs, after mising values are removed\n",
      "train fraction 0.7143573069965287, test fraction 0.18840145699897326\n",
      " \n",
      "starting val split\n",
      " \n",
      "Fraction of cls in sets, relative to all cls before mising values are removed\n",
      "train fraction 0.4864864864864865, test fraction 0.5135135135135135\n",
      "------\n",
      "Fraction of cls in sets, relative to all cl drug pairs, after mising values are removed\n",
      "train fraction 0.44271705333652234, test fraction 0.47892250657737384\n",
      "Fraction of cls in sets, relative to all cls before mising values are removed\n",
      "train fraction 0.7955801104972375, test fraction 0.20441988950276244\n",
      "------\n",
      "Fraction of cls in sets, relative to all cl drug pairs, after mising values are removed\n",
      "train fraction 0.7272099447513812, test fraction 0.17554881924412066\n",
      " \n",
      "starting val split\n",
      " \n",
      "Fraction of cls in sets, relative to all cls before mising values are removed\n",
      "train fraction 0.4864864864864865, test fraction 0.5135135135135135\n",
      "------\n",
      "Fraction of cls in sets, relative to all cl drug pairs, after mising values are removed\n",
      "train fraction 0.40911265247548434, test fraction 0.44965319301602485\n"
     ]
    }
   ],
   "source": [
    "#d blind split\n",
    "num_pairs = {'train': [], 'val': [], 'test': []}\n",
    "for seed in range(1, 4):\n",
    "    split_type = 'd_blind'\n",
    "    train_pairs, test_pairs, train_drugs, test_drugs = data_processing.dblind_split(\n",
    "        seed, rna.index, drugs_with_smiles, y, train_size=0.8)\n",
    "    print(' ')\n",
    "    print('starting val split')\n",
    "    print(' ')\n",
    "    val_pairs, test_pairs, val_cls, test_cls = data_processing.dblind_split(\n",
    "        seed, rna.index, test_drugs, test_pairs, train_size=0.5)\n",
    "\n",
    "    save_path = f'data/train_test_pairs/{split_type}/'\n",
    "    np.savetxt(f'{save_path}seed_{seed}_train', train_pairs, fmt='%s')\n",
    "    np.savetxt(f'{save_path}seed_{seed}_val', val_pairs, fmt='%s')\n",
    "    np.savetxt(f'{save_path}seed_{seed}_test', test_pairs, fmt='%s')\n",
    "\n",
    "    num_pairs['train'].append(len(train_pairs))\n",
    "    num_pairs['val'].append(len(val_pairs))\n",
    "    num_pairs['test'].append(len(test_pairs))\n",
    "    \n",
    "num_pairs = pd.DataFrame(num_pairs)"
   ]
  },
  {
   "cell_type": "code",
   "execution_count": 14,
   "metadata": {},
   "outputs": [
    {
     "data": {
      "text/html": [
       "<div>\n",
       "<style scoped>\n",
       "    .dataframe tbody tr th:only-of-type {\n",
       "        vertical-align: middle;\n",
       "    }\n",
       "\n",
       "    .dataframe tbody tr th {\n",
       "        vertical-align: top;\n",
       "    }\n",
       "\n",
       "    .dataframe thead th {\n",
       "        text-align: right;\n",
       "    }\n",
       "</style>\n",
       "<table border=\"1\" class=\"dataframe\">\n",
       "  <thead>\n",
       "    <tr style=\"text-align: right;\">\n",
       "      <th></th>\n",
       "      <th>train</th>\n",
       "      <th>val</th>\n",
       "      <th>test</th>\n",
       "    </tr>\n",
       "  </thead>\n",
       "  <tbody>\n",
       "    <tr>\n",
       "      <th>0</th>\n",
       "      <td>117818</td>\n",
       "      <td>13765</td>\n",
       "      <td>16130</td>\n",
       "    </tr>\n",
       "    <tr>\n",
       "      <th>1</th>\n",
       "      <td>116886</td>\n",
       "      <td>14808</td>\n",
       "      <td>16019</td>\n",
       "    </tr>\n",
       "    <tr>\n",
       "      <th>2</th>\n",
       "      <td>118989</td>\n",
       "      <td>13684</td>\n",
       "      <td>15040</td>\n",
       "    </tr>\n",
       "  </tbody>\n",
       "</table>\n",
       "</div>"
      ],
      "text/plain": [
       "    train    val   test\n",
       "0  117818  13765  16130\n",
       "1  116886  14808  16019\n",
       "2  118989  13684  15040"
      ]
     },
     "execution_count": 14,
     "metadata": {},
     "output_type": "execute_result"
    }
   ],
   "source": [
    "num_pairs"
   ]
  }
 ],
 "metadata": {
  "kernelspec": {
   "display_name": "torch_env",
   "language": "python",
   "name": "python3"
  },
  "language_info": {
   "codemirror_mode": {
    "name": "ipython",
    "version": 3
   },
   "file_extension": ".py",
   "mimetype": "text/x-python",
   "name": "python",
   "nbconvert_exporter": "python",
   "pygments_lexer": "ipython3",
   "version": "3.10.13"
  },
  "orig_nbformat": 4
 },
 "nbformat": 4,
 "nbformat_minor": 2
}
